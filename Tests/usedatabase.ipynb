{
 "cells": [
  {
   "cell_type": "code",
   "execution_count": 22,
   "metadata": {},
   "outputs": [],
   "source": [
    "import requests\n",
    "import pandas as pd\n",
    "import cv2\n",
    "import urllib.request\n",
    "import numpy as np\n",
    "from matplotlib import pyplot as plt\n",
    "#from keras.preprocessing import image\n",
    "\n",
    "\n",
    "baseurl = 'http://127.0.0.1:8000/pictures/'\n",
    "\n",
    "\n",
    "\n",
    "img_h, img_w = 64, 64 # Altura e largura das imagens"
   ]
  },
  {
   "cell_type": "code",
   "execution_count": 23,
   "metadata": {},
   "outputs": [
    {
     "data": {
      "text/html": [
       "<div>\n",
       "<style scoped>\n",
       "    .dataframe tbody tr th:only-of-type {\n",
       "        vertical-align: middle;\n",
       "    }\n",
       "\n",
       "    .dataframe tbody tr th {\n",
       "        vertical-align: top;\n",
       "    }\n",
       "\n",
       "    .dataframe thead th {\n",
       "        text-align: right;\n",
       "    }\n",
       "</style>\n",
       "<table border=\"1\" class=\"dataframe\">\n",
       "  <thead>\n",
       "    <tr style=\"text-align: right;\">\n",
       "      <th></th>\n",
       "      <th>address</th>\n",
       "      <th>real_breed</th>\n",
       "      <th>classification</th>\n",
       "      <th>estimated_score1</th>\n",
       "      <th>estimated_score2</th>\n",
       "      <th>estimated_score3</th>\n",
       "    </tr>\n",
       "  </thead>\n",
       "  <tbody>\n",
       "    <tr>\n",
       "      <th>0</th>\n",
       "      <td>https://images.dog.ceo/breeds/affenpinscher/n0...</td>\n",
       "      <td>affenpinscher</td>\n",
       "      <td>affenpinscher</td>\n",
       "      <td>0.775390</td>\n",
       "      <td>0.131729</td>\n",
       "      <td>0.092882</td>\n",
       "    </tr>\n",
       "    <tr>\n",
       "      <th>1</th>\n",
       "      <td>https://images.dog.ceo/breeds/affenpinscher/n0...</td>\n",
       "      <td></td>\n",
       "      <td>airedale</td>\n",
       "      <td>0.363518</td>\n",
       "      <td>0.213891</td>\n",
       "      <td>0.422591</td>\n",
       "    </tr>\n",
       "    <tr>\n",
       "      <th>2</th>\n",
       "      <td>https://images.dog.ceo/breeds/affenpinscher/n0...</td>\n",
       "      <td>affenpinscher</td>\n",
       "      <td>african</td>\n",
       "      <td>0.232404</td>\n",
       "      <td>0.447018</td>\n",
       "      <td>0.320579</td>\n",
       "    </tr>\n",
       "    <tr>\n",
       "      <th>3</th>\n",
       "      <td>https://images.dog.ceo/breeds/airedale/n020960...</td>\n",
       "      <td>airedale</td>\n",
       "      <td>airedale</td>\n",
       "      <td>0.093606</td>\n",
       "      <td>0.191262</td>\n",
       "      <td>0.715132</td>\n",
       "    </tr>\n",
       "    <tr>\n",
       "      <th>4</th>\n",
       "      <td>https://images.dog.ceo/breeds/airedale/n020960...</td>\n",
       "      <td>airedale</td>\n",
       "      <td>airedale</td>\n",
       "      <td>0.183377</td>\n",
       "      <td>0.229067</td>\n",
       "      <td>0.587556</td>\n",
       "    </tr>\n",
       "  </tbody>\n",
       "</table>\n",
       "</div>"
      ],
      "text/plain": [
       "                                             address     real_breed  \\\n",
       "0  https://images.dog.ceo/breeds/affenpinscher/n0...  affenpinscher   \n",
       "1  https://images.dog.ceo/breeds/affenpinscher/n0...                  \n",
       "2  https://images.dog.ceo/breeds/affenpinscher/n0...  affenpinscher   \n",
       "3  https://images.dog.ceo/breeds/airedale/n020960...       airedale   \n",
       "4  https://images.dog.ceo/breeds/airedale/n020960...       airedale   \n",
       "\n",
       "  classification  estimated_score1  estimated_score2  estimated_score3  \n",
       "0  affenpinscher          0.775390          0.131729          0.092882  \n",
       "1       airedale          0.363518          0.213891          0.422591  \n",
       "2        african          0.232404          0.447018          0.320579  \n",
       "3       airedale          0.093606          0.191262          0.715132  \n",
       "4       airedale          0.183377          0.229067          0.587556  "
      ]
     },
     "execution_count": 23,
     "metadata": {},
     "output_type": "execute_result"
    }
   ],
   "source": [
    "obj = requests.get(baseurl).json()\n",
    "pictures_table = pd.DataFrame.from_dict(obj)\n",
    "pictures_table.head()"
   ]
  },
  {
   "cell_type": "code",
   "execution_count": 24,
   "metadata": {},
   "outputs": [
    {
     "name": "stdout",
     "output_type": "stream",
     "text": [
      "['https://images.dog.ceo/breeds/affenpinscher/n02110627_4433.jpg'\n",
      " 'affenpinscher' 'affenpinscher' 0.7753898863077003 0.1317285365324581\n",
      " 0.09288157715984166]\n",
      "['https://images.dog.ceo/breeds/affenpinscher/n02110627_10437.jpg' ''\n",
      " 'airedale' 0.3635180148354824 0.21389102139140126 0.4225909637731164]\n",
      "['https://images.dog.ceo/breeds/affenpinscher/n02110627_13032.jpg'\n",
      " 'affenpinscher' 'african' 0.23240368246856433 0.44701756578200247\n",
      " 0.32057875174943307]\n",
      "['https://images.dog.ceo/breeds/airedale/n02096051_441.jpg' 'airedale'\n",
      " 'airedale' 0.09360645524600593 0.1912617544238288 0.7151317903301654]\n",
      "['https://images.dog.ceo/breeds/airedale/n02096051_5018.jpg' 'airedale'\n",
      " 'airedale' 0.18337664827065997 0.2290673455236295 0.5875560062057104]\n",
      "['https://images.dog.ceo/breeds/airedale/n02096051_6410.jpg' 'airedale'\n",
      " 'airedale' 0.09862094687915182 0.32217386573121665 0.5792051873896317]\n",
      "['https://images.dog.ceo/breeds/african/n02116738_10038.jpg' 'african'\n",
      " 'african' 0.1154053641751039 0.6625086412406603 0.22208599458423586]\n",
      "['https://images.dog.ceo/breeds/african/n02116738_10081.jpg' 'african'\n",
      " 'african' 0.06931037307897446 0.647998868597753 0.2826907583232725]\n",
      "['https://images.dog.ceo/breeds/african/n02116738_1948.jpg' 'african'\n",
      " 'african' 0.08032561022028571 0.5812988580783791 0.338375531701335]\n"
     ]
    }
   ],
   "source": [
    "for i in pictures_table.values:\n",
    "    print(i)"
   ]
  },
  {
   "cell_type": "code",
   "execution_count": null,
   "metadata": {},
   "outputs": [],
   "source": []
  }
 ],
 "metadata": {
  "kernelspec": {
   "display_name": "Python 3",
   "language": "python",
   "name": "python3"
  },
  "language_info": {
   "codemirror_mode": {
    "name": "ipython",
    "version": 3
   },
   "file_extension": ".py",
   "mimetype": "text/x-python",
   "name": "python",
   "nbconvert_exporter": "python",
   "pygments_lexer": "ipython3",
   "version": "3.7.6"
  }
 },
 "nbformat": 4,
 "nbformat_minor": 4
}
