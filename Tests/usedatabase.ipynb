{
 "cells": [
  {
   "cell_type": "code",
   "execution_count": 1,
   "metadata": {},
   "outputs": [],
   "source": [
    "import requests\n",
    "import pandas as pd\n",
    "import cv2\n",
    "import urllib.request\n",
    "import numpy as np\n",
    "from matplotlib import pyplot as plt\n",
    "#from keras.preprocessing import image\n",
    "\n",
    "WORKDIR = 'C:/Users/cammy/OneDrive/MIT IA/git/projeto_dogs/dogs_brand'\n",
    "\n",
    "\n",
    "\n",
    "baseurl = 'http://127.0.0.1:8000/pictures/'\n",
    "\n",
    "\n",
    "data_raw_file = WORKDIR + '/Data/Raw/dogs.parquet'\n",
    "\n",
    "maxBreeds = 3\n",
    "maxImages = 50\n",
    "\n",
    "img_h, img_w = 64, 64 # Altura e largura das imagens"
   ]
  },
  {
   "cell_type": "code",
   "execution_count": 10,
   "metadata": {},
   "outputs": [
    {
     "data": {
      "text/html": [
       "<div>\n",
       "<style scoped>\n",
       "    .dataframe tbody tr th:only-of-type {\n",
       "        vertical-align: middle;\n",
       "    }\n",
       "\n",
       "    .dataframe tbody tr th {\n",
       "        vertical-align: top;\n",
       "    }\n",
       "\n",
       "    .dataframe thead th {\n",
       "        text-align: right;\n",
       "    }\n",
       "</style>\n",
       "<table border=\"1\" class=\"dataframe\">\n",
       "  <thead>\n",
       "    <tr style=\"text-align: right;\">\n",
       "      <th></th>\n",
       "      <th>address</th>\n",
       "      <th>real_breed</th>\n",
       "      <th>classification</th>\n",
       "      <th>estimated_score</th>\n",
       "    </tr>\n",
       "  </thead>\n",
       "  <tbody>\n",
       "    <tr>\n",
       "      <th>0</th>\n",
       "      <td>https://images.dog.ceo/breeds/airedale/n020960...</td>\n",
       "      <td>airedale</td>\n",
       "      <td></td>\n",
       "      <td>None</td>\n",
       "    </tr>\n",
       "    <tr>\n",
       "      <th>1</th>\n",
       "      <td>https://images.dog.ceo/breeds/airedale/n020960...</td>\n",
       "      <td>airedale</td>\n",
       "      <td></td>\n",
       "      <td>None</td>\n",
       "    </tr>\n",
       "    <tr>\n",
       "      <th>2</th>\n",
       "      <td>https://images.dog.ceo/breeds/airedale/n020960...</td>\n",
       "      <td>airedale</td>\n",
       "      <td>airedale</td>\n",
       "      <td>None</td>\n",
       "    </tr>\n",
       "    <tr>\n",
       "      <th>3</th>\n",
       "      <td>https://images.dog.ceo/breeds/african/n0211673...</td>\n",
       "      <td>african</td>\n",
       "      <td>african</td>\n",
       "      <td>None</td>\n",
       "    </tr>\n",
       "  </tbody>\n",
       "</table>\n",
       "</div>"
      ],
      "text/plain": [
       "                                             address real_breed  \\\n",
       "0  https://images.dog.ceo/breeds/airedale/n020960...   airedale   \n",
       "1  https://images.dog.ceo/breeds/airedale/n020960...   airedale   \n",
       "2  https://images.dog.ceo/breeds/airedale/n020960...   airedale   \n",
       "3  https://images.dog.ceo/breeds/african/n0211673...    african   \n",
       "\n",
       "  classification estimated_score  \n",
       "0                           None  \n",
       "1                           None  \n",
       "2       airedale            None  \n",
       "3        african            None  "
      ]
     },
     "execution_count": 10,
     "metadata": {},
     "output_type": "execute_result"
    }
   ],
   "source": [
    "obj = requests.get(baseurl).json()\n",
    "pictures_table = pd.DataFrame.from_dict(obj)\n",
    "pictures_table.head()"
   ]
  },
  {
   "cell_type": "code",
   "execution_count": 18,
   "metadata": {},
   "outputs": [
    {
     "name": "stdout",
     "output_type": "stream",
     "text": [
      "['https://images.dog.ceo/breeds/airedale/n02096051_2517.jpg' 'airedale' ''\n",
      " None]\n",
      "['https://images.dog.ceo/breeds/airedale/n02096051_1941.jpg' 'airedale' ''\n",
      " None]\n",
      "['https://images.dog.ceo/breeds/airedale/n02096051_2045.jpg' 'airedale'\n",
      " 'airedale' None]\n",
      "['https://images.dog.ceo/breeds/african/n02116738_5661.jpg' 'african'\n",
      " 'african' None]\n"
     ]
    }
   ],
   "source": [
    "for i in pictures_table.values:\n",
    "    print(i)"
   ]
  },
  {
   "cell_type": "code",
   "execution_count": null,
   "metadata": {},
   "outputs": [],
   "source": []
  }
 ],
 "metadata": {
  "kernelspec": {
   "display_name": "Python 3",
   "language": "python",
   "name": "python3"
  },
  "language_info": {
   "codemirror_mode": {
    "name": "ipython",
    "version": 3
   },
   "file_extension": ".py",
   "mimetype": "text/x-python",
   "name": "python",
   "nbconvert_exporter": "python",
   "pygments_lexer": "ipython3",
   "version": "3.7.6"
  }
 },
 "nbformat": 4,
 "nbformat_minor": 4
}
