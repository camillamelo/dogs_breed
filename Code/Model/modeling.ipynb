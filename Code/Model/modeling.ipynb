{
 "cells": [
  {
   "cell_type": "code",
   "execution_count": 27,
   "metadata": {},
   "outputs": [],
   "source": [
    "import pandas\n",
    "import numpy as np\n",
    "import matplotlib.pyplot as plt\n",
    "import seaborn as sns\n",
    "\n",
    "from sklearn import metrics\n",
    "from sklearn import model_selection\n",
    "from sklearn import linear_model as lm\n",
    "from sklearn import preprocessing\n",
    "from sklearn import pipeline\n",
    "from sklearn.preprocessing import StandardScaler\n",
    "from sklearn.linear_model import LogisticRegressionCV\n",
    "from sklearn import neighbors\n",
    "from sklearn.calibration import CalibratedClassifierCV, calibration_curve\n",
    "from sklearn import ensemble\n",
    "from sklearn import tree\n",
    "import pickle\n",
    "from sklearn import decomposition\n",
    "\n",
    "\n",
    "import os\n",
    "os.environ['PATH'] = os.environ['PATH'] + ';C:/Program Files (x86)/Graphviz2.38/bin'\n",
    "\n",
    "%store -r WORKDIR\n",
    "\n",
    "#if 'WORKDIR' not in dir():\n",
    "WORKDIR = 'C:/Users/cammy/OneDrive/MIT IA/git/projeto_dogs/dogs_brand'\n",
    "\n",
    "pandas.set_option(\"display.precision\", 2)\n",
    "\n",
    "input_table = '../../Data/Raw/dogs.parquet'\n",
    "\n",
    "model_score_file = WORKDIR + '/Data/Modeling/model_scores.parquet'\n",
    "model_file = WORKDIR + '/Data/Modeling/trained_models.jbl'\n",
    "\n",
    "\n",
    "\n",
    "target_variable = ['breed']"
   ]
  },
  {
   "cell_type": "markdown",
   "metadata": {},
   "source": [
    "# Carga dos Dados"
   ]
  },
  {
   "cell_type": "code",
   "execution_count": 28,
   "metadata": {},
   "outputs": [
    {
     "name": "stdout",
     "output_type": "stream",
     "text": [
      "data shape: (159, 4097)\n"
     ]
    }
   ],
   "source": [
    "data = pandas.read_parquet(input_table)\n",
    "print('data shape:', data.shape)"
   ]
  },
  {
   "cell_type": "markdown",
   "metadata": {},
   "source": [
    "# Treino / Teste"
   ]
  },
  {
   "cell_type": "code",
   "execution_count": 29,
   "metadata": {},
   "outputs": [],
   "source": [
    "X = data.drop(target_variable, axis = 1).values\n",
    "Y = data[target_variable].values"
   ]
  },
  {
   "cell_type": "code",
   "execution_count": 30,
   "metadata": {},
   "outputs": [
    {
     "data": {
      "text/plain": [
       "array(['affenpinscher', 'african', 'airedale', 'akita'], dtype=object)"
      ]
     },
     "execution_count": 30,
     "metadata": {},
     "output_type": "execute_result"
    }
   ],
   "source": [
    "classes = data.breed.unique()\n",
    "classes"
   ]
  },
  {
   "cell_type": "code",
   "execution_count": 31,
   "metadata": {},
   "outputs": [
    {
     "name": "stderr",
     "output_type": "stream",
     "text": [
      "C:\\Users\\cammy\\anaconda3\\lib\\site-packages\\sklearn\\model_selection\\_split.py:296: FutureWarning: Setting a random_state has no effect since shuffle is False. This will raise an error in 0.24. You should leave random_state to its default (None), or set shuffle=True.\n",
      "  FutureWarning\n"
     ]
    }
   ],
   "source": [
    "Xtrain, Xtest, Ytrain, Ytest = model_selection.train_test_split(X,\n",
    "                                                                Y,\n",
    "                                                                test_size=0.2,\n",
    "                                                                random_state=0,\n",
    "                                                                stratify=Y)\n",
    "\n",
    "# Objeto de validacao cruzada\n",
    "cvfold = model_selection.StratifiedKFold(n_splits = 3, random_state = 0)"
   ]
  },
  {
   "cell_type": "markdown",
   "metadata": {},
   "source": [
    "# Random Forest"
   ]
  },
  {
   "cell_type": "code",
   "execution_count": 32,
   "metadata": {},
   "outputs": [
    {
     "name": "stdout",
     "output_type": "stream",
     "text": [
      "Yhat.shape: (32,)\n"
     ]
    }
   ],
   "source": [
    "# Configure Pipeline\n",
    "conf_train_pipe = [\n",
    "    ('Scaler', StandardScaler()),\n",
    "    ('PCA', decomposition.PCA(n_components=20)),\n",
    "    ('Model', ensemble.RandomForestClassifier()),\n",
    "]\n",
    "model_pipe = pipeline.Pipeline(conf_train_pipe)\n",
    "\n",
    "# Grid-Search\n",
    "param_grid = {\n",
    "    'Model__n_estimators': [10, 30, 40],\n",
    "    'Model__max_depth': [4, 6, 8],\n",
    "}\n",
    "model_pipe = model_selection.GridSearchCV(model_pipe,\n",
    "                                          param_grid,\n",
    "                                          scoring=None,\n",
    "                                          cv=cvfold)\n",
    "\n",
    "model_pipe.fit(Xtrain, Ytrain.ravel())\n",
    "\n",
    "\n",
    "decision_threshold = 0.5\n",
    "Yhat = model_pipe.predict_proba(Xtest)[:,1]\n",
    "Ypred= Yhat >= decision_threshold\n",
    "\n",
    "print('Yhat.shape:', Yhat.shape)"
   ]
  },
  {
   "cell_type": "code",
   "execution_count": 33,
   "metadata": {},
   "outputs": [
    {
     "name": "stdout",
     "output_type": "stream",
     "text": [
      "Accuracy: 0.4375\n"
     ]
    }
   ],
   "source": [
    "preds = model_pipe.predict(Xtest)\n",
    "print(\"Accuracy:\", metrics.accuracy_score(Ytest,preds))"
   ]
  },
  {
   "cell_type": "code",
   "execution_count": 34,
   "metadata": {},
   "outputs": [
    {
     "name": "stdout",
     "output_type": "stream",
     "text": [
      "Accuracy: 0.7559055118110236\n"
     ]
    }
   ],
   "source": [
    "preds = model_pipe.predict(Xtrain)\n",
    "print(\"Accuracy:\", metrics.accuracy_score(Ytrain,preds))"
   ]
  },
  {
   "cell_type": "markdown",
   "metadata": {},
   "source": [
    "# Exportar modelo"
   ]
  },
  {
   "cell_type": "code",
   "execution_count": 35,
   "metadata": {},
   "outputs": [],
   "source": [
    "with open(model_file, 'wb') as fid:\n",
    "    pickle.dump(model_pipe, fid)"
   ]
  },
  {
   "cell_type": "code",
   "execution_count": null,
   "metadata": {},
   "outputs": [],
   "source": []
  }
 ],
 "metadata": {
  "kernelspec": {
   "display_name": "Python 3",
   "language": "python",
   "name": "python3"
  },
  "language_info": {
   "codemirror_mode": {
    "name": "ipython",
    "version": 3
   },
   "file_extension": ".py",
   "mimetype": "text/x-python",
   "name": "python",
   "nbconvert_exporter": "python",
   "pygments_lexer": "ipython3",
   "version": "3.7.6"
  }
 },
 "nbformat": 4,
 "nbformat_minor": 4
}
