{
 "cells": [
  {
   "cell_type": "code",
   "execution_count": null,
   "metadata": {},
   "outputs": [],
   "source": [
    "import requests\n",
    "import pandas as pd\n",
    "import pickle\n",
    "import json\n",
    "from datetime import datetime\n",
    "import matplotlib.pyplot as plt\n",
    "\n",
    "\n",
    "\n",
    "\n",
    "%store -r WORKDIR\n",
    "\n",
    "if 'WORKDIR' not in dir():\n",
    "    WORKDIR = 'C:/Users/cammy/OneDrive/MIT IA/git/mit_data_science_aula03'\n",
    "\n",
    "\n",
    "%matplotlib inline\n",
    "\n",
    "baseurl = 'https://thevirustracker.com/timeline/map-data.json'\n",
    "\n",
    "countrycode = 'BR'\n",
    "\n",
    "time_col = 'date'\n",
    "\n",
    "max_forecast_date = '2020-08-25'\n",
    "\n",
    "data_proc_file = WORKDIR + '/Data/Processed/covid19_data_modeling.parquet'\n",
    "model_score_file = WORKDIR + '/Data/Modeling/model_scores.parquet'\n",
    "model_file = WORKDIR + '/Data/Modeling/trained_models.jbl'\n",
    "\n",
    "\n",
    "pd.plotting.register_matplotlib_converters()"
   ]
  }
 ],
 "metadata": {
  "kernelspec": {
   "display_name": "Python 3",
   "language": "python",
   "name": "python3"
  },
  "language_info": {
   "codemirror_mode": {
    "name": "ipython",
    "version": 3
   },
   "file_extension": ".py",
   "mimetype": "text/x-python",
   "name": "python",
   "nbconvert_exporter": "python",
   "pygments_lexer": "ipython3",
   "version": "3.7.6"
  }
 },
 "nbformat": 4,
 "nbformat_minor": 4
}
