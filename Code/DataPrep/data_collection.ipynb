{
 "cells": [
  {
   "cell_type": "code",
   "execution_count": 7,
   "metadata": {},
   "outputs": [],
   "source": [
    "import requests\n",
    "import pandas as pd\n",
    "import cv2\n",
    "import urllib.request\n",
    "import numpy as np\n",
    "from matplotlib import pyplot as plt\n",
    "#from keras.preprocessing import image\n",
    "\n",
    "%matplotlib inline\n",
    "\n",
    "\n",
    "%store -r WORKDIR\n",
    "\n",
    "#if 'WORKDIR' not in dir():\n",
    "WORKDIR = 'C:/Users/cammy/OneDrive/MIT IA/git/projeto_dogs/dogs_brand'\n",
    "\n",
    "\n",
    "\n",
    "baseurl = 'https://dog.ceo/api/'\n",
    "\n",
    "listurl = baseurl + 'breeds/list/all'\n",
    "randomappend = '/images/random/'\n",
    "allimages = '/images'\n",
    "\n",
    "data_raw_file = WORKDIR + '/Data/Raw/dogs.parquet'\n",
    "\n",
    "maxBreeds = 3\n",
    "maxImages = 0\n",
    "\n",
    "img_h, img_w = 64, 64 # Altura e largura das imagens\n",
    "\n",
    "#breeds = []"
   ]
  },
  {
   "cell_type": "code",
   "execution_count": 8,
   "metadata": {},
   "outputs": [
    {
     "data": {
      "text/plain": [
       "'C:/Users/cammy/OneDrive/MIT IA/git/projeto_dogs/dogs_brand'"
      ]
     },
     "execution_count": 8,
     "metadata": {},
     "output_type": "execute_result"
    }
   ],
   "source": [
    "WORKDIR"
   ]
  },
  {
   "cell_type": "markdown",
   "metadata": {},
   "source": [
    "# Busca Lista de Raças"
   ]
  },
  {
   "cell_type": "code",
   "execution_count": 9,
   "metadata": {},
   "outputs": [
    {
     "data": {
      "text/html": [
       "<div>\n",
       "<style scoped>\n",
       "    .dataframe tbody tr th:only-of-type {\n",
       "        vertical-align: middle;\n",
       "    }\n",
       "\n",
       "    .dataframe tbody tr th {\n",
       "        vertical-align: top;\n",
       "    }\n",
       "\n",
       "    .dataframe thead th {\n",
       "        text-align: right;\n",
       "    }\n",
       "</style>\n",
       "<table border=\"1\" class=\"dataframe\">\n",
       "  <thead>\n",
       "    <tr style=\"text-align: right;\">\n",
       "      <th></th>\n",
       "      <th>message</th>\n",
       "      <th>status</th>\n",
       "    </tr>\n",
       "  </thead>\n",
       "  <tbody>\n",
       "    <tr>\n",
       "      <th>affenpinscher</th>\n",
       "      <td>[]</td>\n",
       "      <td>success</td>\n",
       "    </tr>\n",
       "    <tr>\n",
       "      <th>african</th>\n",
       "      <td>[]</td>\n",
       "      <td>success</td>\n",
       "    </tr>\n",
       "    <tr>\n",
       "      <th>airedale</th>\n",
       "      <td>[]</td>\n",
       "      <td>success</td>\n",
       "    </tr>\n",
       "    <tr>\n",
       "      <th>akita</th>\n",
       "      <td>[]</td>\n",
       "      <td>success</td>\n",
       "    </tr>\n",
       "    <tr>\n",
       "      <th>appenzeller</th>\n",
       "      <td>[]</td>\n",
       "      <td>success</td>\n",
       "    </tr>\n",
       "  </tbody>\n",
       "</table>\n",
       "</div>"
      ],
      "text/plain": [
       "              message   status\n",
       "affenpinscher      []  success\n",
       "african            []  success\n",
       "airedale           []  success\n",
       "akita              []  success\n",
       "appenzeller        []  success"
      ]
     },
     "execution_count": 9,
     "metadata": {},
     "output_type": "execute_result"
    }
   ],
   "source": [
    "obj = requests.get(listurl).json()\n",
    "allbreeds = pd.DataFrame.from_dict(obj)\n",
    "allbreeds.head()"
   ]
  },
  {
   "cell_type": "code",
   "execution_count": 10,
   "metadata": {},
   "outputs": [],
   "source": [
    "breeds = allbreeds.index\n",
    "if maxBreeds > 0:\n",
    "    breeds = allbreeds [0:maxBreeds].index\n",
    "    "
   ]
  },
  {
   "cell_type": "markdown",
   "metadata": {},
   "source": [
    "# Ler imagens"
   ]
  },
  {
   "cell_type": "code",
   "execution_count": 11,
   "metadata": {},
   "outputs": [],
   "source": [
    "def ler_imagem(url):\n",
    "\n",
    "# For remote, use urllib, as per \"http://stackoverflow.com/questions/21061814\"\n",
    "    req = urllib.request.urlopen(url)\n",
    "\n",
    "    arr = np.asarray(bytearray(req.read()), dtype=np.uint8)\n",
    "# 0 = monocromatic\n",
    "    img = cv2.imdecode(arr,0)\n",
    "    imres = cv2.resize(img, (img_h, img_w), interpolation=cv2.INTER_CUBIC)\n",
    "\n",
    "\n",
    "# Plot\n",
    "#    plt.figure()  \n",
    "#    plt.imshow(imres)\n",
    "    return imres"
   ]
  },
  {
   "cell_type": "code",
   "execution_count": null,
   "metadata": {},
   "outputs": [
    {
     "name": "stdout",
     "output_type": "stream",
     "text": [
      "https://dog.ceo/api/breed/affenpinscher/images\n",
      "{'message': ['https://images.dog.ceo/breeds/affenpinscher/n02110627_10147.jpg', 'https://images.dog.ceo/breeds/affenpinscher/n02110627_10185.jpg', 'https://images.dog.ceo/breeds/affenpinscher/n02110627_10225.jpg', 'https://images.dog.ceo/breeds/affenpinscher/n02110627_10437.jpg', 'https://images.dog.ceo/breeds/affenpinscher/n02110627_10439.jpg', 'https://images.dog.ceo/breeds/affenpinscher/n02110627_10447.jpg', 'https://images.dog.ceo/breeds/affenpinscher/n02110627_10680.jpg', 'https://images.dog.ceo/breeds/affenpinscher/n02110627_10787.jpg', 'https://images.dog.ceo/breeds/affenpinscher/n02110627_10848.jpg', 'https://images.dog.ceo/breeds/affenpinscher/n02110627_10859.jpg', 'https://images.dog.ceo/breeds/affenpinscher/n02110627_10986.jpg', 'https://images.dog.ceo/breeds/affenpinscher/n02110627_11211.jpg', 'https://images.dog.ceo/breeds/affenpinscher/n02110627_11262.jpg', 'https://images.dog.ceo/breeds/affenpinscher/n02110627_11263.jpg', 'https://images.dog.ceo/breeds/affenpinscher/n02110627_11279.jpg', 'https://images.dog.ceo/breeds/affenpinscher/n02110627_11283.jpg', 'https://images.dog.ceo/breeds/affenpinscher/n02110627_11345.jpg', 'https://images.dog.ceo/breeds/affenpinscher/n02110627_11365.jpg', 'https://images.dog.ceo/breeds/affenpinscher/n02110627_11422.jpg', 'https://images.dog.ceo/breeds/affenpinscher/n02110627_11435.jpg', 'https://images.dog.ceo/breeds/affenpinscher/n02110627_11584.jpg', 'https://images.dog.ceo/breeds/affenpinscher/n02110627_11614.jpg', 'https://images.dog.ceo/breeds/affenpinscher/n02110627_11620.jpg', 'https://images.dog.ceo/breeds/affenpinscher/n02110627_11657.jpg', 'https://images.dog.ceo/breeds/affenpinscher/n02110627_11663.jpg', 'https://images.dog.ceo/breeds/affenpinscher/n02110627_11759.jpg', 'https://images.dog.ceo/breeds/affenpinscher/n02110627_11782.jpg', 'https://images.dog.ceo/breeds/affenpinscher/n02110627_11783.jpg', 'https://images.dog.ceo/breeds/affenpinscher/n02110627_11798.jpg', 'https://images.dog.ceo/breeds/affenpinscher/n02110627_11811.jpg', 'https://images.dog.ceo/breeds/affenpinscher/n02110627_11819.jpg', 'https://images.dog.ceo/breeds/affenpinscher/n02110627_11835.jpg', 'https://images.dog.ceo/breeds/affenpinscher/n02110627_11853.jpg', 'https://images.dog.ceo/breeds/affenpinscher/n02110627_11858.jpg', 'https://images.dog.ceo/breeds/affenpinscher/n02110627_11875.jpg', 'https://images.dog.ceo/breeds/affenpinscher/n02110627_11942.jpg', 'https://images.dog.ceo/breeds/affenpinscher/n02110627_12003.jpg', 'https://images.dog.ceo/breeds/affenpinscher/n02110627_12025.jpg', 'https://images.dog.ceo/breeds/affenpinscher/n02110627_12070.jpg', 'https://images.dog.ceo/breeds/affenpinscher/n02110627_12077.jpg', 'https://images.dog.ceo/breeds/affenpinscher/n02110627_12227.jpg', 'https://images.dog.ceo/breeds/affenpinscher/n02110627_12272.jpg', 'https://images.dog.ceo/breeds/affenpinscher/n02110627_12391.jpg', 'https://images.dog.ceo/breeds/affenpinscher/n02110627_12431.jpg', 'https://images.dog.ceo/breeds/affenpinscher/n02110627_12512.jpg', 'https://images.dog.ceo/breeds/affenpinscher/n02110627_12556.jpg', 'https://images.dog.ceo/breeds/affenpinscher/n02110627_12579.jpg', 'https://images.dog.ceo/breeds/affenpinscher/n02110627_12676.jpg', 'https://images.dog.ceo/breeds/affenpinscher/n02110627_12808.jpg', 'https://images.dog.ceo/breeds/affenpinscher/n02110627_12819.jpg', 'https://images.dog.ceo/breeds/affenpinscher/n02110627_12893.jpg', 'https://images.dog.ceo/breeds/affenpinscher/n02110627_12913.jpg', 'https://images.dog.ceo/breeds/affenpinscher/n02110627_12938.jpg', 'https://images.dog.ceo/breeds/affenpinscher/n02110627_12973.jpg', 'https://images.dog.ceo/breeds/affenpinscher/n02110627_12997.jpg', 'https://images.dog.ceo/breeds/affenpinscher/n02110627_13014.jpg', 'https://images.dog.ceo/breeds/affenpinscher/n02110627_13020.jpg', 'https://images.dog.ceo/breeds/affenpinscher/n02110627_13032.jpg', 'https://images.dog.ceo/breeds/affenpinscher/n02110627_13060.jpg', 'https://images.dog.ceo/breeds/affenpinscher/n02110627_13210.jpg', 'https://images.dog.ceo/breeds/affenpinscher/n02110627_13211.jpg', 'https://images.dog.ceo/breeds/affenpinscher/n02110627_13221.jpg', 'https://images.dog.ceo/breeds/affenpinscher/n02110627_13417.jpg', 'https://images.dog.ceo/breeds/affenpinscher/n02110627_13420.jpg', 'https://images.dog.ceo/breeds/affenpinscher/n02110627_13453.jpg', 'https://images.dog.ceo/breeds/affenpinscher/n02110627_13499.jpg', 'https://images.dog.ceo/breeds/affenpinscher/n02110627_13553.jpg', 'https://images.dog.ceo/breeds/affenpinscher/n02110627_13567.jpg', 'https://images.dog.ceo/breeds/affenpinscher/n02110627_13590.jpg', 'https://images.dog.ceo/breeds/affenpinscher/n02110627_13654.jpg', 'https://images.dog.ceo/breeds/affenpinscher/n02110627_13662.jpg', 'https://images.dog.ceo/breeds/affenpinscher/n02110627_13665.jpg', 'https://images.dog.ceo/breeds/affenpinscher/n02110627_13710.jpg', 'https://images.dog.ceo/breeds/affenpinscher/n02110627_13782.jpg', 'https://images.dog.ceo/breeds/affenpinscher/n02110627_1387.jpg', 'https://images.dog.ceo/breeds/affenpinscher/n02110627_13939.jpg', 'https://images.dog.ceo/breeds/affenpinscher/n02110627_1446.jpg', 'https://images.dog.ceo/breeds/affenpinscher/n02110627_1559.jpg', 'https://images.dog.ceo/breeds/affenpinscher/n02110627_1581.jpg', 'https://images.dog.ceo/breeds/affenpinscher/n02110627_1844.jpg', 'https://images.dog.ceo/breeds/affenpinscher/n02110627_1966.jpg', 'https://images.dog.ceo/breeds/affenpinscher/n02110627_2157.jpg', 'https://images.dog.ceo/breeds/affenpinscher/n02110627_2327.jpg', 'https://images.dog.ceo/breeds/affenpinscher/n02110627_233.jpg', 'https://images.dog.ceo/breeds/affenpinscher/n02110627_2383.jpg', 'https://images.dog.ceo/breeds/affenpinscher/n02110627_2416.jpg', 'https://images.dog.ceo/breeds/affenpinscher/n02110627_2748.jpg', 'https://images.dog.ceo/breeds/affenpinscher/n02110627_2894.jpg', 'https://images.dog.ceo/breeds/affenpinscher/n02110627_2911.jpg', 'https://images.dog.ceo/breeds/affenpinscher/n02110627_2997.jpg', 'https://images.dog.ceo/breeds/affenpinscher/n02110627_3001.jpg', 'https://images.dog.ceo/breeds/affenpinscher/n02110627_3026.jpg', 'https://images.dog.ceo/breeds/affenpinscher/n02110627_3032.jpg', 'https://images.dog.ceo/breeds/affenpinscher/n02110627_3144.jpg', 'https://images.dog.ceo/breeds/affenpinscher/n02110627_3246.jpg', 'https://images.dog.ceo/breeds/affenpinscher/n02110627_3286.jpg', 'https://images.dog.ceo/breeds/affenpinscher/n02110627_3409.jpg', 'https://images.dog.ceo/breeds/affenpinscher/n02110627_3561.jpg', 'https://images.dog.ceo/breeds/affenpinscher/n02110627_3730.jpg', 'https://images.dog.ceo/breeds/affenpinscher/n02110627_3841.jpg', 'https://images.dog.ceo/breeds/affenpinscher/n02110627_3972.jpg', 'https://images.dog.ceo/breeds/affenpinscher/n02110627_4086.jpg', 'https://images.dog.ceo/breeds/affenpinscher/n02110627_4130.jpg', 'https://images.dog.ceo/breeds/affenpinscher/n02110627_4275.jpg', 'https://images.dog.ceo/breeds/affenpinscher/n02110627_4433.jpg', 'https://images.dog.ceo/breeds/affenpinscher/n02110627_4457.jpg', 'https://images.dog.ceo/breeds/affenpinscher/n02110627_4542.jpg', 'https://images.dog.ceo/breeds/affenpinscher/n02110627_4597.jpg', 'https://images.dog.ceo/breeds/affenpinscher/n02110627_4607.jpg', 'https://images.dog.ceo/breeds/affenpinscher/n02110627_475.jpg', 'https://images.dog.ceo/breeds/affenpinscher/n02110627_4839.jpg', 'https://images.dog.ceo/breeds/affenpinscher/n02110627_5186.jpg', 'https://images.dog.ceo/breeds/affenpinscher/n02110627_5361.jpg', 'https://images.dog.ceo/breeds/affenpinscher/n02110627_5522.jpg', 'https://images.dog.ceo/breeds/affenpinscher/n02110627_5743.jpg', 'https://images.dog.ceo/breeds/affenpinscher/n02110627_6069.jpg', 'https://images.dog.ceo/breeds/affenpinscher/n02110627_6310.jpg', 'https://images.dog.ceo/breeds/affenpinscher/n02110627_641.jpg', 'https://images.dog.ceo/breeds/affenpinscher/n02110627_6414.jpg', 'https://images.dog.ceo/breeds/affenpinscher/n02110627_6670.jpg', 'https://images.dog.ceo/breeds/affenpinscher/n02110627_6796.jpg', 'https://images.dog.ceo/breeds/affenpinscher/n02110627_6811.jpg', 'https://images.dog.ceo/breeds/affenpinscher/n02110627_6842.jpg', 'https://images.dog.ceo/breeds/affenpinscher/n02110627_6869.jpg', 'https://images.dog.ceo/breeds/affenpinscher/n02110627_6965.jpg', 'https://images.dog.ceo/breeds/affenpinscher/n02110627_6991.jpg', 'https://images.dog.ceo/breeds/affenpinscher/n02110627_7013.jpg', 'https://images.dog.ceo/breeds/affenpinscher/n02110627_7065.jpg', 'https://images.dog.ceo/breeds/affenpinscher/n02110627_735.jpg', 'https://images.dog.ceo/breeds/affenpinscher/n02110627_7404.jpg', 'https://images.dog.ceo/breeds/affenpinscher/n02110627_7612.jpg', 'https://images.dog.ceo/breeds/affenpinscher/n02110627_7680.jpg', 'https://images.dog.ceo/breeds/affenpinscher/n02110627_7694.jpg', 'https://images.dog.ceo/breeds/affenpinscher/n02110627_7770.jpg', 'https://images.dog.ceo/breeds/affenpinscher/n02110627_8033.jpg', 'https://images.dog.ceo/breeds/affenpinscher/n02110627_8048.jpg', 'https://images.dog.ceo/breeds/affenpinscher/n02110627_8050.jpg', 'https://images.dog.ceo/breeds/affenpinscher/n02110627_8071.jpg', 'https://images.dog.ceo/breeds/affenpinscher/n02110627_8099.jpg', 'https://images.dog.ceo/breeds/affenpinscher/n02110627_8154.jpg', 'https://images.dog.ceo/breeds/affenpinscher/n02110627_8250.jpg', 'https://images.dog.ceo/breeds/affenpinscher/n02110627_8519.jpg', 'https://images.dog.ceo/breeds/affenpinscher/n02110627_8621.jpg', 'https://images.dog.ceo/breeds/affenpinscher/n02110627_8695.jpg', 'https://images.dog.ceo/breeds/affenpinscher/n02110627_8714.jpg', 'https://images.dog.ceo/breeds/affenpinscher/n02110627_8856.jpg', 'https://images.dog.ceo/breeds/affenpinscher/n02110627_8949.jpg', 'https://images.dog.ceo/breeds/affenpinscher/n02110627_946.jpg', 'https://images.dog.ceo/breeds/affenpinscher/n02110627_9634.jpg', 'https://images.dog.ceo/breeds/affenpinscher/n02110627_9822.jpg'], 'status': 'success'}\n"
     ]
    }
   ],
   "source": [
    "imageurls = []\n",
    "dogimages = []\n",
    "rotulos = []\n",
    "#dataset = np.ndarray((len(breeds) * maxImages, img_h, img_w, 3), dtype=np.uint8)\n",
    "i = 0\n",
    "\n",
    "for breed in breeds:\n",
    "    filesurl = ''\n",
    "    if maxImages > 0:\n",
    "        filesurl = baseurl + 'breed/' + breed + randomappend + str(maxImages)\n",
    "    else:\n",
    "        filesurl = baseurl + 'breed/' + breed + allimages\n",
    "    print(filesurl)\n",
    "    imageurl = requests.get(filesurl).json()\n",
    "    print(imageurl)\n",
    "    breedimages = pd.DataFrame.from_dict(imageurl['message'])\n",
    "    imageurls.append(breedimages)\n",
    "    for images in breedimages.values:\n",
    "        img = ler_imagem(images[0])\n",
    "#        dataset[i] = img\n",
    "        rotulos.append(breed)\n",
    "        dogimages.append(img.flatten())\n",
    "        i = i+1"
   ]
  },
  {
   "cell_type": "code",
   "execution_count": null,
   "metadata": {},
   "outputs": [],
   "source": [
    "rotulos"
   ]
  },
  {
   "cell_type": "code",
   "execution_count": null,
   "metadata": {},
   "outputs": [],
   "source": [
    "#dataset.shape"
   ]
  },
  {
   "cell_type": "code",
   "execution_count": null,
   "metadata": {},
   "outputs": [],
   "source": [
    "dogimages"
   ]
  },
  {
   "cell_type": "code",
   "execution_count": null,
   "metadata": {},
   "outputs": [],
   "source": [
    "# view an image (e.g. 20) and print its corresponding label\n",
    "#img_index = 10\n",
    "#plt.imshow(dataset[img_index,:,:,:])\n",
    "#plt.show()\n",
    "#print(rotulos[img_index])"
   ]
  },
  {
   "cell_type": "code",
   "execution_count": null,
   "metadata": {},
   "outputs": [],
   "source": [
    "df = pd.DataFrame(dogimages)\n",
    "df['breed'] = rotulos"
   ]
  },
  {
   "cell_type": "code",
   "execution_count": null,
   "metadata": {},
   "outputs": [],
   "source": [
    "df"
   ]
  },
  {
   "cell_type": "code",
   "execution_count": null,
   "metadata": {},
   "outputs": [],
   "source": [
    "df.columns = df.columns.astype(str)\n",
    "df.to_parquet(data_raw_file)"
   ]
  },
  {
   "cell_type": "code",
   "execution_count": null,
   "metadata": {},
   "outputs": [],
   "source": []
  }
 ],
 "metadata": {
  "kernelspec": {
   "display_name": "Python 3",
   "language": "python",
   "name": "python3"
  },
  "language_info": {
   "codemirror_mode": {
    "name": "ipython",
    "version": 3
   },
   "file_extension": ".py",
   "mimetype": "text/x-python",
   "name": "python",
   "nbconvert_exporter": "python",
   "pygments_lexer": "ipython3",
   "version": "3.7.6"
  }
 },
 "nbformat": 4,
 "nbformat_minor": 4
}
